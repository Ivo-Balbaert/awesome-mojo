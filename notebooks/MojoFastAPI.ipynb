{
 "cells": [
  {
   "cell_type": "code",
   "execution_count": 1,
   "id": "16c54c44-6f4c-4465-8f30-683956132e7f",
   "metadata": {},
   "outputs": [],
   "source": [
    "# Upload FastAPI code from pypi.org to playground.\n",
    "# On local machine do\n",
    "# pip install --target=web fastapi uvicorn\n",
    "# tar -czPf web.tar.gz web\n",
    "# Upload web.tar.gz to playground."
   ]
  },
  {
   "cell_type": "code",
   "execution_count": 2,
   "id": "5ed9758c-97f2-42d4-950f-debb91717281",
   "metadata": {},
   "outputs": [
    {
     "name": "stdout",
     "output_type": "stream",
     "text": [
      "fastapi\n",
      "fastapi-0.95.2.dist-info\n"
     ]
    }
   ],
   "source": [
    "%%python\n",
    "import os\n",
    "import site\n",
    "\n",
    "site_packages_path = site.getsitepackages()[0]\n",
    "# install fastapi\n",
    "os.system(f\"tar xzf web.tar.gz -C {site_packages_path}\")\n",
    "os.system(f\"cp -r {site_packages_path}/web/* {site_packages_path}/\")\n",
    "os.system(f\"ls {site_packages_path} | grep fastapi\")\n",
    "# clean packages\n",
    "os.system(f\"rm -rf {site_packages_path}/web\")\n",
    "# os.system(f\"rm web.tar.gz\")"
   ]
  },
  {
   "cell_type": "code",
   "execution_count": 3,
   "id": "c3d9399d-76f6-4168-b4a7-0e3f858bff29",
   "metadata": {},
   "outputs": [],
   "source": [
    "%%python\n",
    "import uvicorn\n",
    "from fastapi import FastAPI\n",
    "\n",
    "app = FastAPI()\n",
    "\n",
    "@app.get(\"/mojo\")\n",
    "def get_mojo():\n",
    "    return \"Hello Mojo🔥!\"\n",
    "\n",
    "\n",
    "if __name__ == \"__main__\":\n",
    "    print(\"Start FastAPI WEB Server\")\n",
    "    uvicorn.run(app)\n",
    "\n",
    "print(\"Done\")"
   ]
  },
  {
   "cell_type": "code",
   "execution_count": 4,
   "id": "c5131a9d-4820-43ac-8f47-3d177d48390b",
   "metadata": {},
   "outputs": [
    {
     "name": "stdout",
     "output_type": "stream",
     "text": [
      "<function <lambda> at 0x7f158125cf70>\n",
      "Start FastAPI WEB Server\n",
      "\u001b[32mINFO\u001b[0m:     Started server process [\u001b[36m287\u001b[0m]\n",
      "\u001b[32mINFO\u001b[0m:     Waiting for application startup.\n",
      "\u001b[32mINFO\u001b[0m:     Application startup complete.\n",
      "\u001b[32mINFO\u001b[0m:     Uvicorn running on \u001b[1mhttp://127.0.0.1:8000\u001b[0m (Press CTRL+C to quit)\n",
      "\u001b[32mINFO\u001b[0m:     127.0.0.1:49964 - \"\u001b[1mGET /mojo HTTP/1.1\u001b[0m\" \u001b[32m200 OK\u001b[0m\n",
      "\u001b[32mINFO\u001b[0m:     127.0.0.1:58460 - \"\u001b[1mGET /mojo HTTP/1.1\u001b[0m\" \u001b[32m200 OK\u001b[0m\n"
     ]
    }
   ],
   "source": [
    "from PythonInterface import Python\n",
    "from PythonObject import PythonObject\n",
    "\n",
    "# Python fastapi\n",
    "let fastapi = Python.import_module(\"fastapi\")\n",
    "let uvicorn = Python.import_module(\"uvicorn\")\n",
    "\n",
    "var app = fastapi.FastAPI()\n",
    "var router = fastapi.APIRouter()\n",
    "\n",
    "let py = Python()\n",
    "let py_code = \"\"\"lambda: 'Hello Mojo🔥!'\"\"\"\n",
    "let py_obj = py.evaluate(py_code)\n",
    "print(py_obj)\n",
    "\n",
    "router.add_api_route(\"/mojo\", py_obj)\n",
    "app.include_router(router)\n",
    "\n",
    "print(\"Start FastAPI WEB Server\")\n",
    "uvicorn.run(app)\n",
    "print(\"Done\")"
   ]
  }
 ],
 "metadata": {
  "kernelspec": {
   "display_name": "Mojo",
   "language": "mojo",
   "name": "mojo-jupyter-kernel"
  },
  "language_info": {
   "codemirror_mode": {
    "name": "mojo"
   },
   "file_extension": ".mojo",
   "mimetype": "text/x-mojo",
   "name": "mojo"
  }
 },
 "nbformat": 4,
 "nbformat_minor": 5
}
