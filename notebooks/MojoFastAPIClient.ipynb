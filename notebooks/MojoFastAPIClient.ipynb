{
 "cells": [
  {
   "cell_type": "code",
   "execution_count": 2,
   "id": "47be1c41-f83c-465e-8196-d8ed53865163",
   "metadata": {},
   "outputs": [
    {
     "name": "stdout",
     "output_type": "stream",
     "text": [
      "200 OK b'\"Hello Mojo\\xf0\\x9f\\x94\\xa5!\"'\n"
     ]
    }
   ],
   "source": [
    "from PythonInterface import Python\n",
    "let http_client = Python.import_module(\"http.client\")\n",
    "\n",
    "let conn = http_client.HTTPConnection(\"localhost\", 8000)\n",
    "conn.request(\"GET\", \"/mojo\")\n",
    "let response = conn.getresponse()\n",
    "print(response.status, response.reason, response.read())"
   ]
  }
 ],
 "metadata": {
  "kernelspec": {
   "display_name": "Mojo",
   "language": "mojo",
   "name": "mojo-jupyter-kernel"
  },
  "language_info": {
   "codemirror_mode": {
    "name": "mojo"
   },
   "file_extension": ".mojo",
   "mimetype": "text/x-mojo",
   "name": "mojo"
  }
 },
 "nbformat": 4,
 "nbformat_minor": 5
}
